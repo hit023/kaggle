{
 "cells": [
  {
   "cell_type": "code",
   "execution_count": 1,
   "metadata": {},
   "outputs": [],
   "source": [
    "import matplotlib.pyplot as plt\n",
    "import pandas as pd\n",
    "import numpy as np\n",
    "import sys"
   ]
  },
  {
   "cell_type": "code",
   "execution_count": 2,
   "metadata": {},
   "outputs": [],
   "source": [
    "#column-1 contains the labels, so cast it to int\n",
    "#other columns are pixel intensities, so cast them to floating-point numbers\n",
    "df = pd.read_csv(\"train.csv\")\n",
    "train = df.as_matrix()\n",
    "\n",
    "#intensities\n",
    "train_y = train[:,0].astype('int8')\n",
    "train_x = train[:,1:].astype('float64')\n",
    "\n",
    "train = None\n",
    "\n",
    "test = pd.read_csv(\"test.csv\").as_matrix().astype('float64')"
   ]
  },
  {
   "cell_type": "code",
   "execution_count": 3,
   "metadata": {},
   "outputs": [
    {
     "name": "stdout",
     "output_type": "stream",
     "text": [
      "4132\n",
      "4684\n",
      "4177\n",
      "4351\n",
      "4072\n",
      "3795\n",
      "4137\n",
      "4401\n",
      "4063\n",
      "4188\n"
     ]
    }
   ],
   "source": [
    "# note that we will have bad accuracy if the examples for each digit are not uniformly distributed.\n",
    "#So check if they are.\n",
    "no_of_train = train_y.shape[0]\n",
    "counts = [0]*10\n",
    "for i in range(no_of_train):\n",
    "    counts[train_y[i]] += 1\n",
    "for i in counts:\n",
    "    print(i)"
   ]
  },
  {
   "cell_type": "markdown",
   "metadata": {},
   "source": [
    "Almost Uniform. So apply NN happily!"
   ]
  },
  {
   "cell_type": "code",
   "execution_count": 4,
   "metadata": {},
   "outputs": [],
   "source": [
    "# Normalise to keep floating-point underflow in check!\n",
    "test /= 255\n",
    "train_x /= 255"
   ]
  },
  {
   "cell_type": "code",
   "execution_count": 5,
   "metadata": {},
   "outputs": [],
   "source": [
    "#look at this : https://pandas.pydata.org/pandas-docs/stable/generated/pandas.get_dummies.html\n",
    "#gives you one-hot encoding.\n",
    "train_y = pd.get_dummies(train_y).as_matrix()"
   ]
  },
  {
   "cell_type": "markdown",
   "metadata": {},
   "source": [
    "As one-hot encoding is used here and we have to predict from 10 labels ie: the most 'probable', makes sense to use Softmax function : \n",
    "\\begin{equation*}\n",
    "y=σ(x)=\\frac{e^x}{\\sum_{i=1}^Ne^x}\n",
    "\\end{equation*}\n",
    "\n",
    "Recall that the derivative of sigmoid is :\n",
    "\\begin{equation*}\n",
    "y=σ(x)=y*(1-y)\n",
    "\\end{equation*}\n",
    "I intend to apply the most-widely used combination : **Cross-entropy as Loss-function + Softmax classification + weight-decay**. (Might apply RBMs in another notebook on MNIST, to learn the same!). Read this : http://www.cs.toronto.edu/~hinton/absps/fastnc.pdf\n",
    "\n",
    "No. of hidden layers : 2 with 500 and 300 units in each respectively."
   ]
  },
  {
   "cell_type": "code",
   "execution_count": 6,
   "metadata": {},
   "outputs": [],
   "source": [
    "#randomly initialised using : random gaussian function with mean=zero and variance between 1/sqtr(num_inputs_layer)\n",
    "def getWeights():\n",
    "    inp = 784\n",
    "    w1_dim = 500\n",
    "    w2_dim = 300\n",
    "    classes = 10\n",
    "    \n",
    "    #layer1\n",
    "    w1 = np.random.normal(0,inp**-0.5,[inp,w1_dim])\n",
    "    b1 = np.random.normal(0,inp**-0.5,[1,w1_dim])\n",
    "    \n",
    "    #layer2\n",
    "    w2 = np.random.normal(0,w1_dim**-0.5,[w1_dim,w2_dim])\n",
    "    b2 = np.random.normal(0,w1_dim**-0.5,[1,w2_dim])\n",
    "    \n",
    "    #layer3\n",
    "    w3 = np.random.normal(0,w2_dim**-0.5,[w2_dim,classes])\n",
    "    b3 = np.random.normal(0,w2_dim**-0.5,[1,classes])\n",
    "    \n",
    "    return [w1,b1,w2,b2,w3,b3]"
   ]
  },
  {
   "cell_type": "markdown",
   "metadata": {},
   "source": [
    "Read this : http://jmlr.org/papers/volume15/srivastava14a.old/srivastava14a.pdf to learn more about 'Dropout'. It is mainly to avoid overfitting by ignoring a few input units. Here, 'p' is the probability that a unit will be ignored. So simply zero out the selected ones. And n testing, the entire network is considered and each activation is reduced by a factor p. https://medium.com/@amarbudhiraja/https-medium-com-amarbudhiraja-learning-less-to-learn-better-dropout-in-deep-machine-learning-74334da4bfc5 : see this for a condensed version of the paper."
   ]
  },
  {
   "cell_type": "code",
   "execution_count": 7,
   "metadata": {},
   "outputs": [],
   "source": [
    "def softmax(x):\n",
    "    return (np.exp(x).T/np.sum(np.exp(x),axis=1)).T\n",
    "\n",
    "def ReLu(x,der=False):\n",
    "    if der==False:\n",
    "        return x*(x>0)\n",
    "    else:\n",
    "        return 1*(x>0)\n",
    "\n",
    "def dropout(x,p):\n",
    "    m = np.random.binomial([np.ones_like(x)],(1-p))[0] / (1-p)\n",
    "    #note that only the first dimension is being taken.\n",
    "    return x*m\n",
    "                           \n",
    "def forward_prop(x,weights,p):\n",
    "    w1,b1,w2,b2,w3,b3 = weights                    \n",
    "\n",
    "    #in case you wondering : https://stackoverflow.com/questions/27385633/what-is-the-symbol-for-in-python\n",
    "    z1 = ReLu(x@w1 + b1)\n",
    "    z1 = dropout(z1,p)\n",
    "                           \n",
    "    z2 = ReLu(z1@w2 + b2)\n",
    "    z2 = dropout(z2,p)\n",
    "                           \n",
    "    return [z1,z2,softmax(z2@w3 + b3)]"
   ]
  },
  {
   "cell_type": "markdown",
   "metadata": {},
   "source": [
    "Use the cross-entropy loss function when dealing with classification:\n",
    "\\begin{equation*}\n",
    "-\\frac{1}{N}.{\\sum_{i=1}^N[y*log(a)+(1-y)log(1-a)]}\n",
    "\\end{equation*}\n",
    "\n",
    "Here is a refresher(I knew you'd forget!): https://github.com/Kulbear/deep-learning-nano-foundation/wiki/ReLU-and-Softmax-Activation-Functions"
   ]
  },
  {
   "cell_type": "code",
   "execution_count": 8,
   "metadata": {},
   "outputs": [],
   "source": [
    "def log2(x):\n",
    "    if x!=0:\n",
    "        return np.log(x)\n",
    "    else:\n",
    "        return -np.inf #don't worry, taken care by nan_to_num : \n",
    "    #https://docs.scipy.org/doc/numpy-1.13.0/reference/generated/numpy.nan_to_num.html\n",
    "    \n",
    "def log(y):\n",
    "    return [[log2(nx) for nx in x] for x in y]\n",
    "\n",
    "def cost(a,y):\n",
    "    loss = -np.mean((np.nan_to_num(y*log(a)) + np.nan_to_num((1-y)*log(1-a))),keepdims = True)\n",
    "    return loss"
   ]
  },
  {
   "cell_type": "code",
   "execution_count": 9,
   "metadata": {},
   "outputs": [
    {
     "data": {
      "text/plain": [
       "(33600, 784)"
      ]
     },
     "execution_count": 9,
     "metadata": {},
     "output_type": "execute_result"
    }
   ],
   "source": [
    "#add cross-validation\n",
    "frac = 0.2\n",
    "sz = round(train_x.shape[0]*frac)\n",
    "\n",
    "indices = np.arange(no_of_train)\n",
    "np.random.shuffle(indices)\n",
    "\n",
    "x_train = train_x[indices[sz:]]\n",
    "x_valid = train_x[indices[:sz]]\n",
    "\n",
    "y_train = train_y[indices[sz:]]\n",
    "y_valid = train_y[indices[:sz]]\n",
    "\n",
    "train_x = None\n",
    "train_y = None\n",
    "\n",
    "x_train.shape"
   ]
  },
  {
   "cell_type": "markdown",
   "metadata": {},
   "source": [
    "And here it comes : Back Prop!! Just apply chain-rule repeatedly to arrive at those complex equations that we got in Stanford ML course! \n",
    "For output layer : \n",
    "\\begin{equation*}\n",
    "\\nabla W_j=\\frac{dL(W_{ij})}{dW_{ij}} = \\frac{1}{N}.(t-y)X_{ij}\n",
    "\\end{equation*}\n",
    "\n",
    "For hidden layer :\n",
    "\\begin{equation*}\n",
    "\\nabla W_j=\\frac{dL(W_{ij})}{dW_{ij}} =  \\frac{1}{N}.(t-y).W_{ij}.\\sigma(x)^{'}X_{ij}\n",
    "\\end{equation*}\n",
    "Enter Momentum! Used to avoid getting trapped in local minima by taking leaps and decreases convergence time. Read this : https://www.quora.com/What-does-momentum-mean-in-neural-networks\n",
    "\\begin{equation*}\n",
    "V_{i+1} = \\gamma V_{i} + \\eta.\\nabla L(W) \\\\\n",
    "W = W - V_{i+1}\n",
    "\\end{equation*}\n",
    "Also, add regularisation using L2 norm.\n",
    "\\begin{equation*}\n",
    "L = -\\frac{1}{N}.{\\sum_{i=1}^N[ylog(a)+(1-y)log(1-a)]} + \\frac{1}{2}.\\lambda.\\sum_{j=1}^{nj}\\sum_{i=1}^{ni}W_{ij}^{2}\n",
    "\\end{equation*}"
   ]
  },
  {
   "cell_type": "code",
   "execution_count": null,
   "metadata": {},
   "outputs": [],
   "source": [
    "def SGD(weights,x,a,op,eta_lr,gamma_mom,delta,cache = None):\n",
    "    w1,b1,w2,b2,w3,b3 = weights\n",
    "    if cache == None:\n",
    "        prev_w1 = np.zeros_like(w1)\n",
    "        prev_w2 = np.zeros_like(w2)\n",
    "        prev_w3 = np.zeros_like(w3)\n",
    "        prev_b1 = np.zeros_like(b1)\n",
    "        prev_b2 = np.zeros_like(b2)\n",
    "        prev_b3 = np.zeros_like(b3)\n",
    "    \n",
    "    else:\n",
    "        prev_w1,prev_b1,prev_w2,prev_b2,prev_w3,prev_b3 = cache\n",
    "    \n",
    "    z1,z2,out = op\n",
    "    "
   ]
  }
 ],
 "metadata": {
  "kernelspec": {
   "display_name": "Python 3",
   "language": "python",
   "name": "python3"
  },
  "language_info": {
   "codemirror_mode": {
    "name": "ipython",
    "version": 3
   },
   "file_extension": ".py",
   "mimetype": "text/x-python",
   "name": "python",
   "nbconvert_exporter": "python",
   "pygments_lexer": "ipython3",
   "version": "3.5.2"
  }
 },
 "nbformat": 4,
 "nbformat_minor": 2
}
