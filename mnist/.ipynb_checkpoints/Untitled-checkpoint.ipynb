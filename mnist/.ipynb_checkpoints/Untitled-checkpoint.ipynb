{
 "cells": [
  {
   "cell_type": "code",
   "execution_count": 1,
   "metadata": {},
   "outputs": [],
   "source": [
    "import matplotlib.pyplot as plt\n",
    "import pandas as pd\n",
    "import numpy as np\n",
    "import sys"
   ]
  },
  {
   "cell_type": "code",
   "execution_count": 10,
   "metadata": {},
   "outputs": [
    {
     "name": "stdout",
     "output_type": "stream",
     "text": [
      "[1 0 1 4 0 0 7 3 5 3]\n"
     ]
    }
   ],
   "source": [
    "#column-1 contains the labels, so cast it to int\n",
    "#other columns are pixel intensities, so cast them to floating-point numbers\n",
    "df = pd.read_csv(\"train.csv\")\n",
    "train = df.as_matrix()\n",
    "\n",
    "#intensities\n",
    "train_y = train[:,0].astype('int8')\n",
    "train_x = train[:,1:].astype('float64')\n",
    "\n",
    "train = None\n",
    "\n",
    "test = pd.read_csv(\"test.csv\").as_matrix()\n",
    "test_y = test[:,0].astype('int8')\n",
    "test_x = test[:,1:].astype('float64')"
   ]
  },
  {
   "cell_type": "code",
   "execution_count": 11,
   "metadata": {},
   "outputs": [
    {
     "name": "stdout",
     "output_type": "stream",
     "text": [
      "4132\n",
      "4684\n",
      "4177\n",
      "4351\n",
      "4072\n",
      "3795\n",
      "4137\n",
      "4401\n",
      "4063\n",
      "4188\n"
     ]
    }
   ],
   "source": [
    "# note that we will have bad accuracy if the examples for each digit are not uniformly distributed.\n",
    "#So check if they are.\n",
    "no_of_train = train_y.shape[0]\n",
    "counts = [0]*10\n",
    "for i in range(no_of_train):\n",
    "    counts[train_y[i]] += 1\n",
    "for i in counts:\n",
    "    print(i)"
   ]
  },
  {
   "cell_type": "markdown",
   "metadata": {},
   "source": [
    "Almost Uniform. So apply NN happily!"
   ]
  }
 ],
 "metadata": {
  "kernelspec": {
   "display_name": "Python 3",
   "language": "python",
   "name": "python3"
  },
  "language_info": {
   "codemirror_mode": {
    "name": "ipython",
    "version": 3
   },
   "file_extension": ".py",
   "mimetype": "text/x-python",
   "name": "python",
   "nbconvert_exporter": "python",
   "pygments_lexer": "ipython3",
   "version": "3.5.2"
  }
 },
 "nbformat": 4,
 "nbformat_minor": 2
}
